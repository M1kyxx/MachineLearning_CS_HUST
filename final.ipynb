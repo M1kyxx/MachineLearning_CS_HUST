{
 "cells": [
  {
   "cell_type": "code",
   "execution_count": 1,
   "id": "547d66d4-d581-414b-97ec-a336600d9d1b",
   "metadata": {
    "ExecuteTime": {
     "end_time": "2024-05-20T12:11:27.502772Z",
     "start_time": "2024-05-20T12:11:27.498150Z"
    }
   },
   "outputs": [],
   "source": [
    "import pandas as pd\n",
    "import numpy as np\n",
    "from sklearn import metrics\n",
    "import warnings\n",
    "from sklearn.preprocessing import OrdinalEncoder\n",
    "from sklearn.model_selection import train_test_split\n",
    "import time\n",
    "import random\n",
    "from collections import Counter\n",
    "import seaborn as sns\n",
    "import matplotlib.pyplot as plt\n",
    "import matplotlib.gridspec as gridspec\n",
    "warnings.filterwarnings('ignore')"
   ]
  },
  {
   "cell_type": "code",
   "execution_count": 2,
   "id": "08c17a18-f805-4dca-8b8f-6c7a70fe7d1b",
   "metadata": {
    "ExecuteTime": {
     "end_time": "2024-05-20T12:02:09.760623Z",
     "start_time": "2024-05-20T12:02:09.640019Z"
    }
   },
   "outputs": [
    {
     "data": {
      "text/html": [
       "<div>\n",
       "<style scoped>\n",
       "    .dataframe tbody tr th:only-of-type {\n",
       "        vertical-align: middle;\n",
       "    }\n",
       "\n",
       "    .dataframe tbody tr th {\n",
       "        vertical-align: top;\n",
       "    }\n",
       "\n",
       "    .dataframe thead th {\n",
       "        text-align: right;\n",
       "    }\n",
       "</style>\n",
       "<table border=\"1\" class=\"dataframe\">\n",
       "  <thead>\n",
       "    <tr style=\"text-align: right;\">\n",
       "      <th></th>\n",
       "      <th>id</th>\n",
       "      <th>Gender</th>\n",
       "      <th>Age</th>\n",
       "      <th>Height</th>\n",
       "      <th>Weight</th>\n",
       "      <th>family_history_with_overweight</th>\n",
       "      <th>FAVC</th>\n",
       "      <th>FCVC</th>\n",
       "      <th>NCP</th>\n",
       "      <th>CAEC</th>\n",
       "      <th>SMOKE</th>\n",
       "      <th>CH2O</th>\n",
       "      <th>SCC</th>\n",
       "      <th>FAF</th>\n",
       "      <th>TUE</th>\n",
       "      <th>CALC</th>\n",
       "      <th>MTRANS</th>\n",
       "      <th>NObeyesdad</th>\n",
       "    </tr>\n",
       "  </thead>\n",
       "  <tbody>\n",
       "    <tr>\n",
       "      <th>0</th>\n",
       "      <td>0</td>\n",
       "      <td>Male</td>\n",
       "      <td>24.443011</td>\n",
       "      <td>1.699998</td>\n",
       "      <td>81.669950</td>\n",
       "      <td>yes</td>\n",
       "      <td>yes</td>\n",
       "      <td>2.000000</td>\n",
       "      <td>2.983297</td>\n",
       "      <td>Sometimes</td>\n",
       "      <td>no</td>\n",
       "      <td>2.763573</td>\n",
       "      <td>no</td>\n",
       "      <td>0.000000</td>\n",
       "      <td>0.976473</td>\n",
       "      <td>Sometimes</td>\n",
       "      <td>Public_Transportation</td>\n",
       "      <td>Overweight_Level_II</td>\n",
       "    </tr>\n",
       "    <tr>\n",
       "      <th>1</th>\n",
       "      <td>1</td>\n",
       "      <td>Female</td>\n",
       "      <td>18.000000</td>\n",
       "      <td>1.560000</td>\n",
       "      <td>57.000000</td>\n",
       "      <td>yes</td>\n",
       "      <td>yes</td>\n",
       "      <td>2.000000</td>\n",
       "      <td>3.000000</td>\n",
       "      <td>Frequently</td>\n",
       "      <td>no</td>\n",
       "      <td>2.000000</td>\n",
       "      <td>no</td>\n",
       "      <td>1.000000</td>\n",
       "      <td>1.000000</td>\n",
       "      <td>no</td>\n",
       "      <td>Automobile</td>\n",
       "      <td>Normal_Weight</td>\n",
       "    </tr>\n",
       "    <tr>\n",
       "      <th>2</th>\n",
       "      <td>2</td>\n",
       "      <td>Female</td>\n",
       "      <td>18.000000</td>\n",
       "      <td>1.711460</td>\n",
       "      <td>50.165754</td>\n",
       "      <td>yes</td>\n",
       "      <td>yes</td>\n",
       "      <td>1.880534</td>\n",
       "      <td>1.411685</td>\n",
       "      <td>Sometimes</td>\n",
       "      <td>no</td>\n",
       "      <td>1.910378</td>\n",
       "      <td>no</td>\n",
       "      <td>0.866045</td>\n",
       "      <td>1.673584</td>\n",
       "      <td>no</td>\n",
       "      <td>Public_Transportation</td>\n",
       "      <td>Insufficient_Weight</td>\n",
       "    </tr>\n",
       "    <tr>\n",
       "      <th>3</th>\n",
       "      <td>3</td>\n",
       "      <td>Female</td>\n",
       "      <td>20.952737</td>\n",
       "      <td>1.710730</td>\n",
       "      <td>131.274851</td>\n",
       "      <td>yes</td>\n",
       "      <td>yes</td>\n",
       "      <td>3.000000</td>\n",
       "      <td>3.000000</td>\n",
       "      <td>Sometimes</td>\n",
       "      <td>no</td>\n",
       "      <td>1.674061</td>\n",
       "      <td>no</td>\n",
       "      <td>1.467863</td>\n",
       "      <td>0.780199</td>\n",
       "      <td>Sometimes</td>\n",
       "      <td>Public_Transportation</td>\n",
       "      <td>Obesity_Type_III</td>\n",
       "    </tr>\n",
       "    <tr>\n",
       "      <th>4</th>\n",
       "      <td>4</td>\n",
       "      <td>Male</td>\n",
       "      <td>31.641081</td>\n",
       "      <td>1.914186</td>\n",
       "      <td>93.798055</td>\n",
       "      <td>yes</td>\n",
       "      <td>yes</td>\n",
       "      <td>2.679664</td>\n",
       "      <td>1.971472</td>\n",
       "      <td>Sometimes</td>\n",
       "      <td>no</td>\n",
       "      <td>1.979848</td>\n",
       "      <td>no</td>\n",
       "      <td>1.967973</td>\n",
       "      <td>0.931721</td>\n",
       "      <td>Sometimes</td>\n",
       "      <td>Public_Transportation</td>\n",
       "      <td>Overweight_Level_II</td>\n",
       "    </tr>\n",
       "  </tbody>\n",
       "</table>\n",
       "</div>"
      ],
      "text/plain": [
       "   id  Gender        Age    Height      Weight family_history_with_overweight  \\\n",
       "0   0    Male  24.443011  1.699998   81.669950                            yes   \n",
       "1   1  Female  18.000000  1.560000   57.000000                            yes   \n",
       "2   2  Female  18.000000  1.711460   50.165754                            yes   \n",
       "3   3  Female  20.952737  1.710730  131.274851                            yes   \n",
       "4   4    Male  31.641081  1.914186   93.798055                            yes   \n",
       "\n",
       "  FAVC      FCVC       NCP        CAEC SMOKE      CH2O SCC       FAF  \\\n",
       "0  yes  2.000000  2.983297   Sometimes    no  2.763573  no  0.000000   \n",
       "1  yes  2.000000  3.000000  Frequently    no  2.000000  no  1.000000   \n",
       "2  yes  1.880534  1.411685   Sometimes    no  1.910378  no  0.866045   \n",
       "3  yes  3.000000  3.000000   Sometimes    no  1.674061  no  1.467863   \n",
       "4  yes  2.679664  1.971472   Sometimes    no  1.979848  no  1.967973   \n",
       "\n",
       "        TUE       CALC                 MTRANS           NObeyesdad  \n",
       "0  0.976473  Sometimes  Public_Transportation  Overweight_Level_II  \n",
       "1  1.000000         no             Automobile        Normal_Weight  \n",
       "2  1.673584         no  Public_Transportation  Insufficient_Weight  \n",
       "3  0.780199  Sometimes  Public_Transportation     Obesity_Type_III  \n",
       "4  0.931721  Sometimes  Public_Transportation  Overweight_Level_II  "
      ]
     },
     "execution_count": 2,
     "metadata": {},
     "output_type": "execute_result"
    }
   ],
   "source": [
    "# 读取数据\n",
    "train_df=pd.read_csv('train.csv')\n",
    "test_df=pd.read_csv('test.csv')\n",
    "train_df.head()"
   ]
  },
  {
   "cell_type": "code",
   "execution_count": 5,
   "id": "5e876f7df1d30df9",
   "metadata": {
    "ExecuteTime": {
     "end_time": "2024-05-20T02:46:07.793463Z",
     "start_time": "2024-05-20T02:46:07.579970Z"
    }
   },
   "outputs": [
    {
     "data": {
      "text/plain": [
       "<Axes: xlabel='Age', ylabel='Count'>"
      ]
     },
     "execution_count": 5,
     "metadata": {},
     "output_type": "execute_result"
    },
    {
     "data": {
      "image/png": "[encoded data removed]",
      "text/plain": [
       "<Figure size 640x480 with 1 Axes>"
      ]
     },
     "metadata": {},
     "output_type": "display_data"
    }
   ],
   "source": [
    "# 画年龄分布图\n",
    "sns.histplot(data=train_df, x='Age', binwidth=5, kde=True)"
   ]
  },
  {
   "cell_type": "code",
   "execution_count": 3,
   "id": "0223d835-d73d-45b9-aed0-776153d81082",
   "metadata": {
    "ExecuteTime": {
     "end_time": "2024-05-20T12:02:15.813229Z",
     "start_time": "2024-05-20T12:02:15.159513Z"
    }
   },
   "outputs": [
    {
     "name": "stdout",
     "output_type": "stream",
     "text": [
      "<class 'pandas.core.frame.DataFrame'>\n",
      "RangeIndex: 20758 entries, 0 to 20757\n",
      "Data columns (total 17 columns):\n",
      " #   Column                          Non-Null Count  Dtype  \n",
      "---  ------                          --------------  -----  \n",
      " 0   id                              20758 non-null  int64  \n",
      " 1   Gender                          20758 non-null  object \n",
      " 2   Age                             20758 non-null  float64\n",
      " 3   family_history_with_overweight  20758 non-null  object \n",
      " 4   FAVC                            20758 non-null  object \n",
      " 5   FCVC                            20758 non-null  float64\n",
      " 6   NCP                             20758 non-null  float64\n",
      " 7   CAEC                            20758 non-null  object \n",
      " 8   SMOKE                           20758 non-null  object \n",
      " 9   CH2O                            20758 non-null  float64\n",
      " 10  SCC                             20758 non-null  object \n",
      " 11  FAF                             20758 non-null  float64\n",
      " 12  TUE                             20758 non-null  float64\n",
      " 13  CALC                            20758 non-null  object \n",
      " 14  MTRANS                          20758 non-null  object \n",
      " 15  NObeyesdad                      20758 non-null  object \n",
      " 16  BMI                             20758 non-null  float64\n",
      "dtypes: float64(7), int64(1), object(9)\n",
      "memory usage: 2.7+ MB\n"
     ]
    }
   ],
   "source": [
    "# 计算BMI代替身高体重\n",
    "bmi_train = train_df[[\"Weight\", \"Height\"]].apply(lambda z: (z[0] / (z[1]) ** 2), axis=1)\n",
    "bmi_test = test_df[[\"Weight\", \"Height\"]].apply(lambda z: (z[0] / (z[1]) ** 2), axis=1)\n",
    "train_df[\"BMI\"] = bmi_train\n",
    "test_df[\"BMI\"] = bmi_test\n",
    "train_df.drop(columns=['Weight', 'Height'], inplace=True)\n",
    "test_df.drop(columns=['Weight', 'Height'], inplace=True)\n",
    "train_df.info()"
   ]
  },
  {
   "cell_type": "code",
   "execution_count": 4,
   "id": "44f82237-2232-4344-b30d-6d426073f52c",
   "metadata": {
    "ExecuteTime": {
     "end_time": "2024-05-20T12:02:16.617568Z",
     "start_time": "2024-05-20T12:02:16.601509Z"
    }
   },
   "outputs": [
    {
     "data": {
      "text/html": [
       "<div>\n",
       "<style scoped>\n",
       "    .dataframe tbody tr th:only-of-type {\n",
       "        vertical-align: middle;\n",
       "    }\n",
       "\n",
       "    .dataframe tbody tr th {\n",
       "        vertical-align: top;\n",
       "    }\n",
       "\n",
       "    .dataframe thead th {\n",
       "        text-align: right;\n",
       "    }\n",
       "</style>\n",
       "<table border=\"1\" class=\"dataframe\">\n",
       "  <thead>\n",
       "    <tr style=\"text-align: right;\">\n",
       "      <th></th>\n",
       "      <th>id</th>\n",
       "      <th>Gender</th>\n",
       "      <th>Age</th>\n",
       "      <th>family_history_with_overweight</th>\n",
       "      <th>FAVC</th>\n",
       "      <th>FCVC</th>\n",
       "      <th>NCP</th>\n",
       "      <th>CAEC</th>\n",
       "      <th>SMOKE</th>\n",
       "      <th>CH2O</th>\n",
       "      <th>SCC</th>\n",
       "      <th>FAF</th>\n",
       "      <th>TUE</th>\n",
       "      <th>CALC</th>\n",
       "      <th>MTRANS</th>\n",
       "      <th>NObeyesdad</th>\n",
       "      <th>BMI</th>\n",
       "    </tr>\n",
       "  </thead>\n",
       "  <tbody>\n",
       "    <tr>\n",
       "      <th>0</th>\n",
       "      <td>0</td>\n",
       "      <td>Male</td>\n",
       "      <td>0.105696</td>\n",
       "      <td>yes</td>\n",
       "      <td>yes</td>\n",
       "      <td>-0.836259</td>\n",
       "      <td>0.314676</td>\n",
       "      <td>Sometimes</td>\n",
       "      <td>no</td>\n",
       "      <td>1.206565</td>\n",
       "      <td>no</td>\n",
       "      <td>-1.171113</td>\n",
       "      <td>0.597424</td>\n",
       "      <td>Sometimes</td>\n",
       "      <td>Public_Transportation</td>\n",
       "      <td>Overweight_Level_II</td>\n",
       "      <td>-0.237856</td>\n",
       "    </tr>\n",
       "    <tr>\n",
       "      <th>1</th>\n",
       "      <td>1</td>\n",
       "      <td>Female</td>\n",
       "      <td>-1.027027</td>\n",
       "      <td>yes</td>\n",
       "      <td>yes</td>\n",
       "      <td>-0.836259</td>\n",
       "      <td>0.338356</td>\n",
       "      <td>Frequently</td>\n",
       "      <td>no</td>\n",
       "      <td>-0.048348</td>\n",
       "      <td>no</td>\n",
       "      <td>0.021774</td>\n",
       "      <td>0.636498</td>\n",
       "      <td>no</td>\n",
       "      <td>Automobile</td>\n",
       "      <td>Normal_Weight</td>\n",
       "      <td>-0.818311</td>\n",
       "    </tr>\n",
       "    <tr>\n",
       "      <th>2</th>\n",
       "      <td>2</td>\n",
       "      <td>Female</td>\n",
       "      <td>-1.027027</td>\n",
       "      <td>yes</td>\n",
       "      <td>yes</td>\n",
       "      <td>-1.060306</td>\n",
       "      <td>-1.913377</td>\n",
       "      <td>Sometimes</td>\n",
       "      <td>no</td>\n",
       "      <td>-0.195640</td>\n",
       "      <td>no</td>\n",
       "      <td>-0.138019</td>\n",
       "      <td>1.755197</td>\n",
       "      <td>no</td>\n",
       "      <td>Public_Transportation</td>\n",
       "      <td>Insufficient_Weight</td>\n",
       "      <td>-1.573703</td>\n",
       "    </tr>\n",
       "    <tr>\n",
       "      <th>3</th>\n",
       "      <td>3</td>\n",
       "      <td>Female</td>\n",
       "      <td>-0.507917</td>\n",
       "      <td>yes</td>\n",
       "      <td>yes</td>\n",
       "      <td>1.039146</td>\n",
       "      <td>0.338356</td>\n",
       "      <td>Sometimes</td>\n",
       "      <td>no</td>\n",
       "      <td>-0.584021</td>\n",
       "      <td>no</td>\n",
       "      <td>0.579882</td>\n",
       "      <td>0.271448</td>\n",
       "      <td>Sometimes</td>\n",
       "      <td>Public_Transportation</td>\n",
       "      <td>Obesity_Type_III</td>\n",
       "      <td>1.753549</td>\n",
       "    </tr>\n",
       "    <tr>\n",
       "      <th>4</th>\n",
       "      <td>4</td>\n",
       "      <td>Male</td>\n",
       "      <td>1.371163</td>\n",
       "      <td>yes</td>\n",
       "      <td>yes</td>\n",
       "      <td>0.438386</td>\n",
       "      <td>-1.119774</td>\n",
       "      <td>Sometimes</td>\n",
       "      <td>no</td>\n",
       "      <td>-0.081467</td>\n",
       "      <td>no</td>\n",
       "      <td>1.176457</td>\n",
       "      <td>0.523099</td>\n",
       "      <td>Sometimes</td>\n",
       "      <td>Public_Transportation</td>\n",
       "      <td>Overweight_Level_II</td>\n",
       "      <td>-0.557083</td>\n",
       "    </tr>\n",
       "  </tbody>\n",
       "</table>\n",
       "</div>"
      ],
      "text/plain": [
       "   id  Gender       Age family_history_with_overweight FAVC      FCVC  \\\n",
       "0   0    Male  0.105696                            yes  yes -0.836259   \n",
       "1   1  Female -1.027027                            yes  yes -0.836259   \n",
       "2   2  Female -1.027027                            yes  yes -1.060306   \n",
       "3   3  Female -0.507917                            yes  yes  1.039146   \n",
       "4   4    Male  1.371163                            yes  yes  0.438386   \n",
       "\n",
       "        NCP        CAEC SMOKE      CH2O SCC       FAF       TUE       CALC  \\\n",
       "0  0.314676   Sometimes    no  1.206565  no -1.171113  0.597424  Sometimes   \n",
       "1  0.338356  Frequently    no -0.048348  no  0.021774  0.636498         no   \n",
       "2 -1.913377   Sometimes    no -0.195640  no -0.138019  1.755197         no   \n",
       "3  0.338356   Sometimes    no -0.584021  no  0.579882  0.271448  Sometimes   \n",
       "4 -1.119774   Sometimes    no -0.081467  no  1.176457  0.523099  Sometimes   \n",
       "\n",
       "                  MTRANS           NObeyesdad       BMI  \n",
       "0  Public_Transportation  Overweight_Level_II -0.237856  \n",
       "1             Automobile        Normal_Weight -0.818311  \n",
       "2  Public_Transportation  Insufficient_Weight -1.573703  \n",
       "3  Public_Transportation     Obesity_Type_III  1.753549  \n",
       "4  Public_Transportation  Overweight_Level_II -0.557083  "
      ]
     },
     "execution_count": 4,
     "metadata": {},
     "output_type": "execute_result"
    }
   ],
   "source": [
    "# 连续值特征标准化\n",
    "continuous_features = train_df.select_dtypes(include=['float64']).columns.tolist()\n",
    "for col in continuous_features:\n",
    "    train_df[col] = (train_df[col] - train_df[col].mean()) / train_df[col].std()\n",
    "    test_df[col] = (test_df[col] - test_df[col].mean()) / test_df[col].std()\n",
    "train_df.head()"
   ]
  },
  {
   "cell_type": "code",
   "execution_count": 5,
   "id": "7eb41629-a467-4c9c-8401-2eeec4f66866",
   "metadata": {},
   "outputs": [
    {
     "data": {
      "text/html": [
       "<div>\n",
       "<style scoped>\n",
       "    .dataframe tbody tr th:only-of-type {\n",
       "        vertical-align: middle;\n",
       "    }\n",
       "\n",
       "    .dataframe tbody tr th {\n",
       "        vertical-align: top;\n",
       "    }\n",
       "\n",
       "    .dataframe thead th {\n",
       "        text-align: right;\n",
       "    }\n",
       "</style>\n",
       "<table border=\"1\" class=\"dataframe\">\n",
       "  <thead>\n",
       "    <tr style=\"text-align: right;\">\n",
       "      <th></th>\n",
       "      <th>id</th>\n",
       "      <th>Gender</th>\n",
       "      <th>Age</th>\n",
       "      <th>family_history_with_overweight</th>\n",
       "      <th>FAVC</th>\n",
       "      <th>FCVC</th>\n",
       "      <th>NCP</th>\n",
       "      <th>CAEC</th>\n",
       "      <th>SMOKE</th>\n",
       "      <th>CH2O</th>\n",
       "      <th>SCC</th>\n",
       "      <th>FAF</th>\n",
       "      <th>TUE</th>\n",
       "      <th>CALC</th>\n",
       "      <th>MTRANS</th>\n",
       "      <th>NObeyesdad</th>\n",
       "      <th>BMI</th>\n",
       "    </tr>\n",
       "  </thead>\n",
       "  <tbody>\n",
       "    <tr>\n",
       "      <th>0</th>\n",
       "      <td>0</td>\n",
       "      <td>Male</td>\n",
       "      <td>0.105696</td>\n",
       "      <td>yes</td>\n",
       "      <td>yes</td>\n",
       "      <td>-0.836259</td>\n",
       "      <td>0.314676</td>\n",
       "      <td>0.333333</td>\n",
       "      <td>no</td>\n",
       "      <td>1.206565</td>\n",
       "      <td>no</td>\n",
       "      <td>-1.171113</td>\n",
       "      <td>0.597424</td>\n",
       "      <td>0.333333</td>\n",
       "      <td>Public_Transportation</td>\n",
       "      <td>Overweight_Level_II</td>\n",
       "      <td>-0.237856</td>\n",
       "    </tr>\n",
       "    <tr>\n",
       "      <th>1</th>\n",
       "      <td>1</td>\n",
       "      <td>Female</td>\n",
       "      <td>-1.027027</td>\n",
       "      <td>yes</td>\n",
       "      <td>yes</td>\n",
       "      <td>-0.836259</td>\n",
       "      <td>0.338356</td>\n",
       "      <td>0.666667</td>\n",
       "      <td>no</td>\n",
       "      <td>-0.048348</td>\n",
       "      <td>no</td>\n",
       "      <td>0.021774</td>\n",
       "      <td>0.636498</td>\n",
       "      <td>0.000000</td>\n",
       "      <td>Automobile</td>\n",
       "      <td>Normal_Weight</td>\n",
       "      <td>-0.818311</td>\n",
       "    </tr>\n",
       "    <tr>\n",
       "      <th>2</th>\n",
       "      <td>2</td>\n",
       "      <td>Female</td>\n",
       "      <td>-1.027027</td>\n",
       "      <td>yes</td>\n",
       "      <td>yes</td>\n",
       "      <td>-1.060306</td>\n",
       "      <td>-1.913377</td>\n",
       "      <td>0.333333</td>\n",
       "      <td>no</td>\n",
       "      <td>-0.195640</td>\n",
       "      <td>no</td>\n",
       "      <td>-0.138019</td>\n",
       "      <td>1.755197</td>\n",
       "      <td>0.000000</td>\n",
       "      <td>Public_Transportation</td>\n",
       "      <td>Insufficient_Weight</td>\n",
       "      <td>-1.573703</td>\n",
       "    </tr>\n",
       "    <tr>\n",
       "      <th>3</th>\n",
       "      <td>3</td>\n",
       "      <td>Female</td>\n",
       "      <td>-0.507917</td>\n",
       "      <td>yes</td>\n",
       "      <td>yes</td>\n",
       "      <td>1.039146</td>\n",
       "      <td>0.338356</td>\n",
       "      <td>0.333333</td>\n",
       "      <td>no</td>\n",
       "      <td>-0.584021</td>\n",
       "      <td>no</td>\n",
       "      <td>0.579882</td>\n",
       "      <td>0.271448</td>\n",
       "      <td>0.333333</td>\n",
       "      <td>Public_Transportation</td>\n",
       "      <td>Obesity_Type_III</td>\n",
       "      <td>1.753549</td>\n",
       "    </tr>\n",
       "    <tr>\n",
       "      <th>4</th>\n",
       "      <td>4</td>\n",
       "      <td>Male</td>\n",
       "      <td>1.371163</td>\n",
       "      <td>yes</td>\n",
       "      <td>yes</td>\n",
       "      <td>0.438386</td>\n",
       "      <td>-1.119774</td>\n",
       "      <td>0.333333</td>\n",
       "      <td>no</td>\n",
       "      <td>-0.081467</td>\n",
       "      <td>no</td>\n",
       "      <td>1.176457</td>\n",
       "      <td>0.523099</td>\n",
       "      <td>0.333333</td>\n",
       "      <td>Public_Transportation</td>\n",
       "      <td>Overweight_Level_II</td>\n",
       "      <td>-0.557083</td>\n",
       "    </tr>\n",
       "  </tbody>\n",
       "</table>\n",
       "</div>"
      ],
      "text/plain": [
       "   id  Gender       Age family_history_with_overweight FAVC      FCVC  \\\n",
       "0   0    Male  0.105696                            yes  yes -0.836259   \n",
       "1   1  Female -1.027027                            yes  yes -0.836259   \n",
       "2   2  Female -1.027027                            yes  yes -1.060306   \n",
       "3   3  Female -0.507917                            yes  yes  1.039146   \n",
       "4   4    Male  1.371163                            yes  yes  0.438386   \n",
       "\n",
       "        NCP      CAEC SMOKE      CH2O SCC       FAF       TUE      CALC  \\\n",
       "0  0.314676  0.333333    no  1.206565  no -1.171113  0.597424  0.333333   \n",
       "1  0.338356  0.666667    no -0.048348  no  0.021774  0.636498  0.000000   \n",
       "2 -1.913377  0.333333    no -0.195640  no -0.138019  1.755197  0.000000   \n",
       "3  0.338356  0.333333    no -0.584021  no  0.579882  0.271448  0.333333   \n",
       "4 -1.119774  0.333333    no -0.081467  no  1.176457  0.523099  0.333333   \n",
       "\n",
       "                  MTRANS           NObeyesdad       BMI  \n",
       "0  Public_Transportation  Overweight_Level_II -0.237856  \n",
       "1             Automobile        Normal_Weight -0.818311  \n",
       "2  Public_Transportation  Insufficient_Weight -1.573703  \n",
       "3  Public_Transportation     Obesity_Type_III  1.753549  \n",
       "4  Public_Transportation  Overweight_Level_II -0.557083  "
      ]
     },
     "execution_count": 5,
     "metadata": {},
     "output_type": "execute_result"
    }
   ],
   "source": [
    "# 定义离散变量连续值映射 \n",
    "map_4 = {\n",
    "    'Always': 1,\n",
    "    'Frequently': 2 / 3,\n",
    "    'Sometimes': 1 / 3,\n",
    "    'no': 0\n",
    "}\n",
    "# 离散值连续化\n",
    "feature_4 = ['CAEC', 'CALC']\n",
    "for col in feature_4:\n",
    "    train_df[col] = train_df[col].map(map_4)\n",
    "    test_df[col] = test_df[col].map(map_4)\n",
    "train_df.head()"
   ]
  },
  {
   "cell_type": "code",
   "execution_count": 6,
   "id": "7025c1b7-95fc-40cb-90f3-ed945419da45",
   "metadata": {},
   "outputs": [
    {
     "name": "stdout",
     "output_type": "stream",
     "text": [
      "<class 'pandas.core.frame.DataFrame'>\n",
      "RangeIndex: 20758 entries, 0 to 20757\n",
      "Data columns (total 17 columns):\n",
      " #   Column                          Non-Null Count  Dtype  \n",
      "---  ------                          --------------  -----  \n",
      " 0   id                              20758 non-null  int64  \n",
      " 1   Gender                          20758 non-null  int32  \n",
      " 2   Age                             20758 non-null  float64\n",
      " 3   family_history_with_overweight  20758 non-null  int32  \n",
      " 4   FAVC                            20758 non-null  int32  \n",
      " 5   FCVC                            20758 non-null  float64\n",
      " 6   NCP                             20758 non-null  float64\n",
      " 7   CAEC                            20758 non-null  float64\n",
      " 8   SMOKE                           20758 non-null  int32  \n",
      " 9   CH2O                            20758 non-null  float64\n",
      " 10  SCC                             20758 non-null  int32  \n",
      " 11  FAF                             20758 non-null  float64\n",
      " 12  TUE                             20758 non-null  float64\n",
      " 13  CALC                            20758 non-null  float64\n",
      " 14  MTRANS                          20758 non-null  int32  \n",
      " 15  NObeyesdad                      20758 non-null  object \n",
      " 16  BMI                             20758 non-null  float64\n",
      "dtypes: float64(9), int32(6), int64(1), object(1)\n",
      "memory usage: 2.2+ MB\n"
     ]
    }
   ],
   "source": [
    "# 离散值特征编码\n",
    "encoder = OrdinalEncoder()\n",
    "discrete_features = train_df.select_dtypes(include=['object']).columns.difference(['NObeyesdad']).tolist()\n",
    "train_df[discrete_features] = encoder.fit_transform(train_df[discrete_features]).astype(int)\n",
    "test_df[discrete_features] = encoder.fit_transform(test_df[discrete_features]).astype(int)\n",
    "train_df.info()"
   ]
  },
  {
   "cell_type": "code",
   "execution_count": 7,
   "id": "70fd5653-0d95-4b17-8331-022fbef2c224",
   "metadata": {
    "ExecuteTime": {
     "end_time": "2024-05-20T12:02:18.529585Z",
     "start_time": "2024-05-20T12:02:18.510572Z"
    }
   },
   "outputs": [
    {
     "name": "stdout",
     "output_type": "stream",
     "text": [
      "<class 'pandas.core.frame.DataFrame'>\n",
      "RangeIndex: 20758 entries, 0 to 20757\n",
      "Data columns (total 21 columns):\n",
      " #   Column                          Non-Null Count  Dtype  \n",
      "---  ------                          --------------  -----  \n",
      " 0   id                              20758 non-null  int64  \n",
      " 1   Gender                          20758 non-null  int32  \n",
      " 2   Age                             20758 non-null  float64\n",
      " 3   family_history_with_overweight  20758 non-null  int32  \n",
      " 4   FAVC                            20758 non-null  int32  \n",
      " 5   FCVC                            20758 non-null  float64\n",
      " 6   NCP                             20758 non-null  float64\n",
      " 7   CAEC                            20758 non-null  float64\n",
      " 8   SMOKE                           20758 non-null  int32  \n",
      " 9   CH2O                            20758 non-null  float64\n",
      " 10  SCC                             20758 non-null  int32  \n",
      " 11  FAF                             20758 non-null  float64\n",
      " 12  TUE                             20758 non-null  float64\n",
      " 13  CALC                            20758 non-null  float64\n",
      " 14  NObeyesdad                      20758 non-null  object \n",
      " 15  BMI                             20758 non-null  float64\n",
      " 16  MTRANS_0                        20758 non-null  int32  \n",
      " 17  MTRANS_1                        20758 non-null  int32  \n",
      " 18  MTRANS_2                        20758 non-null  int32  \n",
      " 19  MTRANS_3                        20758 non-null  int32  \n",
      " 20  MTRANS_4                        20758 non-null  int32  \n",
      "dtypes: float64(9), int32(10), int64(1), object(1)\n",
      "memory usage: 2.5+ MB\n"
     ]
    }
   ],
   "source": [
    "# 独热编码\n",
    "train_df = pd.get_dummies(train_df, columns=['MTRANS'])\n",
    "test_df = pd.get_dummies(test_df, columns=['MTRANS'])\n",
    "bool_features = train_df.select_dtypes(include=['bool']).columns.tolist()\n",
    "for col in bool_features:\n",
    "    train_df[col] = train_df[col].astype(int)\n",
    "    test_df[col] = test_df[col].astype(int)\n",
    "train_df.info()"
   ]
  },
  {
   "cell_type": "code",
   "execution_count": 8,
   "id": "a576faf7-ee56-42d4-a14e-7aebeadc27bc",
   "metadata": {
    "ExecuteTime": {
     "end_time": "2024-05-20T12:02:19.508433Z",
     "start_time": "2024-05-20T12:02:19.304301Z"
    }
   },
   "outputs": [
    {
     "data": {
      "text/plain": [
       "<Axes: >"
      ]
     },
     "execution_count": 8,
     "metadata": {},
     "output_type": "execute_result"
    },
    {
     "data": {
      "image/png": "[encoded data removed]",
      "text/plain": [
       "<Figure size 640x480 with 1 Axes>"
      ]
     },
     "metadata": {},
     "output_type": "display_data"
    }
   ],
   "source": [
    "# 标签编码\n",
    "target_label_map = {'Insufficient_Weight': 0,\n",
    "                    'Normal_Weight': 1,\n",
    "                    'Overweight_Level_I': 2,\n",
    "                    'Overweight_Level_II': 3,\n",
    "                    'Obesity_Type_I': 4,\n",
    "                    'Obesity_Type_II': 5,\n",
    "                    'Obesity_Type_III': 6\n",
    "                    }\n",
    "label_target_map = {0: 'Insufficient_Weight',\n",
    "                    1: 'Normal_Weight',\n",
    "                    2: 'Overweight_Level_I',\n",
    "                    3: 'Overweight_Level_II',\n",
    "                    4: 'Obesity_Type_I',\n",
    "                    5: 'Obesity_Type_II',\n",
    "                    6: 'Obesity_Type_III'\n",
    "                    }\n",
    "# y = train_df[\"NObeyesdad\"]\n",
    "# Counter(y)\n",
    "train_df[\"NObeyesdad\"] = train_df[\"NObeyesdad\"].map(target_label_map)\n",
    "# train_df.info()\n",
    "y = {'Insufficient_Weight': 2523,\n",
    "     'Normal_Weight': 3082,\n",
    "     'Overweight_Level_I': 2427,\n",
    "     'Overweight_Level_II': 2522,\n",
    "     'Obesity_Type_I': 2910,\n",
    "     'Obesity_Type_II': 3248,\n",
    "     'Obesity_Type_III': 4046}\n",
    "k = list(y.keys())\n",
    "v = list(y.values())\n",
    "sns.barplot(x=v, y=k)"
   ]
  },
  {
   "cell_type": "code",
   "execution_count": 9,
   "id": "8db6dc16-4303-4b93-87c0-df2a83833391",
   "metadata": {
    "ExecuteTime": {
     "end_time": "2024-05-20T12:02:23.622105Z",
     "start_time": "2024-05-20T12:02:23.607903Z"
    }
   },
   "outputs": [
    {
     "name": "stdout",
     "output_type": "stream",
     "text": [
      "(16606, 19) (13840, 19)\n"
     ]
    },
    {
     "data": {
      "text/plain": [
       "array([[-0.63578809, -0.51527729,  0.33333333, ...,  0.        ,\n",
       "         0.19016478,  1.        ],\n",
       "       [ 0.49973868,  0.97034679,  0.33333333, ...,  0.        ,\n",
       "        -0.89701069,  1.        ],\n",
       "       [-1.02702717,  0.5733496 ,  0.33333333, ...,  0.        ,\n",
       "        -1.02431892,  1.        ],\n",
       "       ...,\n",
       "       [ 0.66687352, -0.64800858,  0.33333333, ...,  0.        ,\n",
       "        -0.42283761,  1.        ],\n",
       "       [ 1.73888616, -0.16544904,  0.33333333, ...,  0.        ,\n",
       "        -1.02431892,  1.        ],\n",
       "       [-0.67541417,  0.34607583,  0.33333333, ...,  0.        ,\n",
       "         0.63649759,  1.        ]])"
      ]
     },
     "execution_count": 9,
     "metadata": {},
     "output_type": "execute_result"
    }
   ],
   "source": [
    "# 选择特征\n",
    "feature_cols = train_df.columns.difference(['id', 'NObeyesdad']).tolist()\n",
    "# 划分训练集与测试集\n",
    "train_x, test_x, train_y, test_y = train_test_split(train_df[feature_cols], train_df['NObeyesdad'], test_size=0.2)\n",
    "train_x.head()"
   ]
  },
  {
   "metadata": {},
   "cell_type": "code",
   "outputs": [],
   "execution_count": null,
   "source": [
    "# df转为ndarray\n",
    "train_x, test_x, train_y, test_y = train_x.values, test_x.values, train_y.values, test_y.values\n",
    "data = test_df[feature_cols].values\n",
    "print(train_x.shape, data.shape)\n",
    "# test_df.info()\n",
    "# train_df.info()\n",
    "train_x"
   ],
   "id": "1d2d0b07edc1bcfc"
  },
  {
   "cell_type": "code",
   "execution_count": 94,
   "id": "1a1c28bd-e0e0-4eff-acb4-9941506a0faa",
   "metadata": {
    "ExecuteTime": {
     "end_time": "2024-05-19T11:43:55.119383Z",
     "start_time": "2024-05-19T11:43:55.112842Z"
    }
   },
   "outputs": [],
   "source": [
    "# 模型一：对数几率回归\n",
    "class MyLogRegClf:\n",
    "    \"\"\"\n",
    "    自定义逻辑回归分类器，采用随机梯度下降法进行训练\n",
    "\n",
    "    参数:\n",
    "    ------\n",
    "    max_iters : int, 默认=200\n",
    "        模型训练的最大迭代次数\n",
    "    learning_rate : float, 默认=0.01\n",
    "        学习率，控制每次参数更新的步长\n",
    "    batch_size : int, 默认=1000\n",
    "        每次更新权重时使用的样本数量\n",
    "\n",
    "    方法:\n",
    "    ------\n",
    "    add_bias(X)\n",
    "        在输入数据集X中添加一列全1值作为偏置项\n",
    "    softmax(d)\n",
    "        应用softmax函数将向量转换为概率分布\n",
    "    fit(X, y)\n",
    "        使用随机梯度下降法训练模型\n",
    "    predict(X)\n",
    "        根据训练好的模型对新数据进行预测\n",
    "    score(X, y)\n",
    "        计算模型在给定数据上的预测准确率\n",
    "    \"\"\"\n",
    "     \n",
    "    def __init__(self, max_iters=200, learning_rate=0.01, batch_size=1000):\n",
    "        self.max_iters = max_iters  # 最大迭代次数\n",
    "        self.learning_rate = learning_rate  # 学习率\n",
    "        self.batch_size = batch_size\n",
    "        \n",
    "    def add_bias(self, X):  \n",
    "        \"\"\"在数据集中增加一个偏置项，即增加一个全1列\"\"\"\n",
    "        return np.insert(X, 0, np.ones(len(X)), axis=1)\n",
    "\n",
    "    def softmax(self, d):\n",
    "        \"\"\"应用softmax函数将向量转换为概率分布\"\"\"\n",
    "        return np.exp(d) / np.sum(np.exp(d))\n",
    "        \n",
    "    def fit(self, X, y):\n",
    "        \"\"\"使用随机梯度下降法训练模型\"\"\"\n",
    "        X = self.add_bias(X)\n",
    "        self.weights = np.zeros((len(X[0]), 7), dtype=np.float32)\n",
    "        for step_ in range(self.max_iters):\n",
    "            # if step_ % 50 == 0:\n",
    "                # print(\"round {}\\nscore {}\".format(step_, self.score(test_x, test_y)))\n",
    "                # print(\"*********************************************************\")\n",
    "            for j in range(self.batch_size):\n",
    "                i = random.randint(0, len(X) - 1)\n",
    "                pre = self.softmax(np.dot(X[i], self.weights))\n",
    "                obj = np.eye(7)[int(y[i])]  # 将标签值变成独热向量, 如[5] 变成 [0 0 0 0 0 1 0]\n",
    "                err = pre - obj\n",
    "                self.weights -= self.learning_rate * np.transpose([X[i]]) * err\n",
    "            \n",
    "    def predict(self, X):\n",
    "        \"\"\"根据训练好的模型对新数据进行预测\"\"\"\n",
    "        X = self.add_bias(X)\n",
    "        return np.argmax(self.softmax(np.dot(X, self.weights)), axis=1)\n",
    "\n",
    "    def score(self, X, y):\n",
    "        \"\"\"计算模型在给定数据上的预测准确率\"\"\"\n",
    "        X = self.add_bias(X)\n",
    "        right = 0\n",
    "        for i in range(len(X)):\n",
    "            pre = np.dot(X[i], self.weights)\n",
    "            pre2 = np.argmax(self.softmax(pre))  # 找到softmax(pre)向量中值最大对应的索引，也就是预测的类别\n",
    "            if pre2 == y[i]:  # 索引跟真实值一样，说明预测正确\n",
    "                right += 1\n",
    "        return right / len(X)"
   ]
  },
  {
   "cell_type": "code",
   "execution_count": 39,
   "id": "ec88dda0-3036-4dc1-af90-e822482bc7ca",
   "metadata": {
    "ExecuteTime": {
     "end_time": "2024-05-19T13:21:21.897882Z",
     "start_time": "2024-05-19T13:21:15.380958Z"
    }
   },
   "outputs": [
    {
     "name": "stdout",
     "output_type": "stream",
     "text": [
      "训练用时：6.5s\n",
      "准确率: 0.8276\n",
      "F1 score: 0.8090\n"
     ]
    }
   ],
   "source": [
    "# 对数几率回归训练与测试\n",
    "logreg = MyLogRegClf(learning_rate=0.01, max_iters=500, batch_size=1000)\n",
    "start = time.time()\n",
    "logreg.fit(train_x, train_y)\n",
    "end = time.time()\n",
    "print(f'训练用时：{(end - start):.1f}s')\n",
    "train_pred = logreg.predict(train_x)\n",
    "test_pred = logreg.predict(test_x)\n",
    "train_accu = metrics.accuracy_score(train_y, train_pred)\n",
    "test_accu = metrics.accuracy_score(test_y, test_pred)\n",
    "test_f1 = metrics.f1_score(test_y, test_pred, average='macro')\n",
    "print(f'准确率: {test_accu:.4f}\\nF1 score: {test_f1:.4f}')"
   ]
  },
  {
   "cell_type": "code",
   "id": "b405fc9e89a06ebc",
   "metadata": {
    "ExecuteTime": {
     "end_time": "2024-05-21T02:18:23.961323Z",
     "start_time": "2024-05-21T02:18:23.596822Z"
    }
   },
   "source": [
    "plt.style.use('seaborn-white')\n",
    "disp = metrics.ConfusionMatrixDisplay.from_predictions(test_y, test_pred)\n",
    "# disp.figure_.suptitle(\"Confusion Matrix\")\n",
    "\n",
    "disp.figure_.savefig(\"confusion_matrix.png\")"
   ],
   "outputs": [
    {
     "ename": "NameError",
     "evalue": "name 'plt' is not defined",
     "output_type": "error",
     "traceback": [
      "\u001B[1;31m---------------------------------------------------------------------------\u001B[0m",
      "\u001B[1;31mNameError\u001B[0m                                 Traceback (most recent call last)",
      "Cell \u001B[1;32mIn[1], line 1\u001B[0m\n\u001B[1;32m----> 1\u001B[0m \u001B[43mplt\u001B[49m\u001B[38;5;241m.\u001B[39mstyle\u001B[38;5;241m.\u001B[39muse(\u001B[38;5;124m'\u001B[39m\u001B[38;5;124mseaborn-white\u001B[39m\u001B[38;5;124m'\u001B[39m)\n\u001B[0;32m      2\u001B[0m disp \u001B[38;5;241m=\u001B[39m metrics\u001B[38;5;241m.\u001B[39mConfusionMatrixDisplay\u001B[38;5;241m.\u001B[39mfrom_predictions(test_y, test_pred)\n\u001B[0;32m      3\u001B[0m \u001B[38;5;66;03m# disp.figure_.suptitle(\"Confusion Matrix\")\u001B[39;00m\n",
      "\u001B[1;31mNameError\u001B[0m: name 'plt' is not defined"
     ]
    }
   ],
   "execution_count": 1
  },
  {
   "cell_type": "code",
   "execution_count": 96,
   "id": "18bbd536b97f8271",
   "metadata": {
    "ExecuteTime": {
     "end_time": "2024-05-19T11:47:11.703808Z",
     "start_time": "2024-05-19T11:47:10.826106Z"
    }
   },
   "outputs": [
    {
     "name": "stdout",
     "output_type": "stream",
     "text": [
      "训练用时：1.7s\n",
      "准确率: 0.8471\n",
      "F1 score: 0.8300\n"
     ]
    }
   ],
   "source": [
    "from sklearn.linear_model import LogisticRegression\n",
    "logreg = LogisticRegression(max_iter=500)\n",
    "start = time.time()\n",
    "logreg.fit(train_x, train_y)\n",
    "end = time.time()\n",
    "print(f'训练用时：{(end - start):.1f}s')\n",
    "test_pred = logreg.predict(test_x)\n",
    "test_accu = metrics.accuracy_score(test_y, test_pred)\n",
    "test_f1 = metrics.f1_score(test_y, test_pred, average='macro')\n",
    "print(f'准确率: {test_accu:.4f}\\nF1 score: {test_f1:.4f}')"
   ]
  },
  {
   "cell_type": "code",
   "execution_count": 23,
   "id": "c400a82e-a9c5-4d3c-af92-b46b47366f9c",
   "metadata": {
    "ExecuteTime": {
     "end_time": "2024-05-19T11:35:01.942053Z",
     "start_time": "2024-05-19T11:35:01.791500Z"
    }
   },
   "outputs": [
    {
     "data": {
      "text/plain": [
       "<Axes: >"
      ]
     },
     "execution_count": 23,
     "metadata": {},
     "output_type": "execute_result"
    },
    {
     "data": {
      "image/png": "[encoded data removed]",
      "text/plain": [
       "<Figure size 640x480 with 1 Axes>"
      ]
     },
     "metadata": {},
     "output_type": "display_data"
    }
   ],
   "source": [
    "ans_nd = logreg.predict(data)\n",
    "# ans_nd = ans_nd.map(labelTargetMap)\n",
    "ans_df = pd.DataFrame(data=ans_nd, columns=['NObeyesdad'])\n",
    "ans_df['NObeyesdad'] = ans_df['NObeyesdad'].map(label_target_map)\n",
    "ss = pd.read_csv('softmax.csv')\n",
    "ss['NObeyesdad'] = ans_df['NObeyesdad']\n",
    "ss.to_csv('softmax.csv', index=False)\n",
    "# ans_df.to_csv('sscopy.csv', mode='w', columns=['NObeyesdad'])\n",
    "# ans_df.to_csv('sample_submission.csv', mode='a', columns=['NObeyesdad'])\n",
    "# Counter(ans_nd)\n",
    "cnt = {0:1963, 1: 1746, 2: 1601, 3: 1651, 4: 1988, 5: 2248, 6: 2643}\n",
    "new_cnt = {label_target_map[k]: v for k, v in cnt.items()}\n",
    "k = list(new_cnt.keys())\n",
    "v = list(new_cnt.values())\n",
    "sns.barplot(x=v, y=k)"
   ]
  },
  {
   "cell_type": "code",
   "execution_count": 24,
   "id": "6289a484-18c3-46f6-8278-cf523e25d475",
   "metadata": {
    "ExecuteTime": {
     "end_time": "2024-05-19T11:39:36.822427Z",
     "start_time": "2024-05-19T11:39:36.812404Z"
    }
   },
   "outputs": [],
   "source": [
    "# 模型三：决策树\n",
    "class MyDecisionTreeClf:\n",
    "    \"\"\"\n",
    "    自定义决策树分类器，基于信息熵和最佳分割点选择策略\n",
    "\n",
    "    参数:\n",
    "    ------\n",
    "    max_depth : int, 默认=5\n",
    "        决策树的最大深度，防止过拟合\n",
    "\n",
    "    方法:\n",
    "    ------\n",
    "    fit(X, y)\n",
    "        基于给定的特征和标签训练决策树模型\n",
    "    predict(X)\n",
    "        使用训练好的决策树对新数据进行预测\n",
    "    accuracy(y_pred, y_test)\n",
    "        计算模型在测试集上的预测准确率\n",
    "    \"\"\"\n",
    "\n",
    "    def __init__(self, max_depth=5):\n",
    "        self.max_depth = max_depth\n",
    "        self.tree = None\n",
    "\n",
    "    def fit(self, X, y):\n",
    "        \"\"\"\n",
    "        训练决策树模型\n",
    "\n",
    "        参数:\n",
    "        ------\n",
    "        X : numpy.ndarray\n",
    "            特征矩阵，二维数组\n",
    "        y : numpy.ndarray\n",
    "            标签向量，一维数组\n",
    "\n",
    "        内部方法:\n",
    "        ---------\n",
    "        calc_entropy(y)\n",
    "            计算给定标签集合的信息熵\n",
    "        split_data(X, y, feature, thres)\n",
    "            根据特征和阈值分割数据\n",
    "        find_best_split(X, y)\n",
    "            寻找最佳分割特征和阈值，以最大化信息增益\n",
    "        build_tree(X, y, depth=0)\n",
    "            递归构建决策树\n",
    "        \"\"\"\n",
    "\n",
    "        def calc_entropy(y):\n",
    "            h = np.bincount(y)\n",
    "            ps = h / len(y)\n",
    "            return -np.sum([p * np.log2(p) for p in ps if p > 0])\n",
    "\n",
    "        def split_data(X, y, feature, thres):\n",
    "            return X[X[:, feature] <= thres], X[X[:, feature] > thres], y[X[:, feature] <= thres], y[X[:, feature] > thres]\n",
    "\n",
    "        def find_best_split(X, y):\n",
    "            best_gain = float('-inf')\n",
    "            best_feature = None\n",
    "            best_threshold = None\n",
    "\n",
    "            # 遍历所有特征\n",
    "            for feature in range(X.shape[1]):\n",
    "                # 对特征取值去重\n",
    "                unique_vals = np.unique(X[:, feature])\n",
    "                # 遍历特征取值\n",
    "                for thres in unique_vals:\n",
    "                    # 以每个取值为阈值，尝试分割\n",
    "                    X_left, X_right, y_left, y_right = split_data(X, y, feature, thres)\n",
    "\n",
    "                    if len(y_left) == 0 or len(y_right) == 0:\n",
    "                        continue\n",
    "\n",
    "                    # 计算信息增益\n",
    "                    gain = calc_entropy(y) - (len(y_left) / len(y)) * calc_entropy(y_left) - (len(y_right) / len(y)) * calc_entropy(y_right)\n",
    "                    if gain > best_gain:\n",
    "                        best_gain = gain\n",
    "                        best_feature = feature\n",
    "                        best_threshold = thres\n",
    "\n",
    "            return best_gain, best_feature, best_threshold\n",
    "\n",
    "        def build_tree(X, y, depth=0):\n",
    "            if len(y) == 0 or (self.max_depth is not None and depth >= self.max_depth):\n",
    "                return Counter(y).most_common(1)[0][0]  # 返回最常见的类别作为叶子节点  \n",
    "\n",
    "            gain, feature, thres = find_best_split(X, y)\n",
    "\n",
    "            if gain <= 0:\n",
    "                return Counter(y).most_common(1)[0][0]  # 如果没有增益，返回最常见的类别  \n",
    "\n",
    "            X_left, X_right, y_left, y_right = split_data(X, y, feature, thres)\n",
    "\n",
    "            left = build_tree(X_left, y_left, depth + 1)\n",
    "            right = build_tree(X_right, y_right, depth + 1)\n",
    "\n",
    "            return {'feature': feature, 'threshold': thres, 'left': left, 'right': right}\n",
    "\n",
    "        self.tree = build_tree(X, y)\n",
    "\n",
    "    def predict(self, X):\n",
    "        \"\"\"\n",
    "        预测新数据的类别\n",
    "\n",
    "        参数:\n",
    "        ------\n",
    "        X : numpy.ndarray\n",
    "            新数据的特征矩阵，二维数组\n",
    "\n",
    "        返回:\n",
    "        ------\n",
    "        y_pred : numpy.ndarray\n",
    "            预测结果，与X同形状的一维数组\n",
    "        \"\"\"\n",
    "\n",
    "        def traverse_tree(node, sample):\n",
    "            if isinstance(node, dict):\n",
    "                if sample[node['feature']] <= node['threshold']:\n",
    "                    return traverse_tree(node['left'], sample)\n",
    "                else:\n",
    "                    return traverse_tree(node['right'], sample)\n",
    "            else:\n",
    "                return node\n",
    "\n",
    "        return np.array([traverse_tree(self.tree, sample) for sample in X])\n",
    "\n",
    "    def accuracy(self, y_pred, y_test):\n",
    "        \"\"\"\n",
    "        计算模型在测试集上的预测准确率\n",
    "\n",
    "        参数:\n",
    "        ------\n",
    "        y_pred : numpy.ndarray\n",
    "            模型预测的标签向量\n",
    "        y_test : numpy.ndarray\n",
    "            测试集的真实标签向量\n",
    "\n",
    "        返回:\n",
    "        ------\n",
    "        acc : float\n",
    "            准确率，范围在0到1之间\n",
    "        \"\"\"\n",
    "        acc = sum(np.equal(y_pred, y_test) / len(y_pred))\n",
    "        return acc"
   ]
  },
  {
   "cell_type": "code",
   "execution_count": 17,
   "id": "e8c3034d-e569-4135-bc25-1b119408269d",
   "metadata": {
    "ExecuteTime": {
     "end_time": "2024-05-19T13:41:42.631412Z",
     "start_time": "2024-05-19T13:41:13.878667Z"
    }
   },
   "outputs": [
    {
     "name": "stdout",
     "output_type": "stream",
     "text": [
      "训练用时：51.2s\n",
      "准确率: 0.8444\n",
      "F1 score: 0.8238\n"
     ]
    }
   ],
   "source": [
    "dt = MyDecisionTreeClf(max_depth=4)\n",
    "start = time.time()\n",
    "dt.fit(train_x, train_y)\n",
    "end = time.time()\n",
    "print(f'训练用时：{(end - start):.1f}s')\n",
    "train_pred = dt.predict(train_x)\n",
    "test_pred = dt.predict(test_x)\n",
    "train_accu = metrics.accuracy_score(train_y, train_pred)\n",
    "test_accu = metrics.accuracy_score(test_y, test_pred)\n",
    "test_f1 = metrics.f1_score(test_y, test_pred, average='macro')\n",
    "print(f'准确率: {test_accu:.4f}\\nF1 score: {test_f1:.4f}')"
   ]
  },
  {
   "cell_type": "code",
   "execution_count": 57,
   "id": "34c87cd4cdef095d",
   "metadata": {
    "ExecuteTime": {
     "end_time": "2024-05-19T13:41:56.399525Z",
     "start_time": "2024-05-19T13:41:56.161192Z"
    }
   },
   "outputs": [
    {
     "data": {
      "image/png": "[encoded data removed]",
      "text/plain": [
       "<Figure size 640x480 with 2 Axes>"
      ]
     },
     "metadata": {},
     "output_type": "display_data"
    }
   ],
   "source": [
    "plt.style.use('seaborn-white')\n",
    "disp = metrics.ConfusionMatrixDisplay.from_predictions(test_y, test_pred)\n",
    "# disp.figure_.suptitle(\"Confusion Matrix\")\n",
    "\n",
    "disp.figure_.savefig(\"confusion_matrix.png\")"
   ]
  },
  {
   "cell_type": "code",
   "execution_count": 38,
   "id": "c7e0a2d3333e6949",
   "metadata": {
    "ExecuteTime": {
     "end_time": "2024-05-19T13:09:00.581471Z",
     "start_time": "2024-05-19T13:09:00.543583Z"
    }
   },
   "outputs": [
    {
     "name": "stdout",
     "output_type": "stream",
     "text": [
      "训练用时：0.0s\n",
      "准确率: 0.8350\n",
      "F1 score: 0.8212\n"
     ]
    }
   ],
   "source": [
    "from sklearn.tree import DecisionTreeClassifier\n",
    "dt = DecisionTreeClassifier(max_depth=4, criterion='entropy')\n",
    "start = time.time()\n",
    "dt.fit(train_x, train_y)\n",
    "end = time.time()\n",
    "print(f'训练用时：{(end - start):.1f}s')\n",
    "test_pred = dt.predict(test_x)\n",
    "test_accu = metrics.accuracy_score(test_y, test_pred)\n",
    "test_f1 = metrics.f1_score(test_y, test_pred, average='macro')\n",
    "print(f'准确率: {test_accu:.4f}\\nF1 score: {test_f1:.4f}')"
   ]
  },
  {
   "cell_type": "code",
   "execution_count": 82,
   "id": "08d613e6-bf25-481a-9cfa-5dfd01a5d9f0",
   "metadata": {},
   "outputs": [],
   "source": [
    "ans_nd = dt.predict(data)\n",
    "# ans_nd = ans_nd.map(labelTargetMap)\n",
    "ans_df = pd.DataFrame(data=ans_nd, columns=['NObeyesdad'])\n",
    "ans_df['NObeyesdad'] = ans_df['NObeyesdad'].map(label_target_map)\n",
    "ss = pd.read_csv('dectree.csv')\n",
    "ss['NObeyesdad'] = ans_df['NObeyesdad']\n",
    "ss.to_csv('dectree.csv', index=False)\n",
    "# ans_df.to_csv('sscopy.csv', mode='w', columns=['NObeyesdad'])\n",
    "# ans_df.to_csv('sample_submission.csv', mode='a', columns=['NObeyesdad'])"
   ]
  },
  {
   "cell_type": "code",
   "execution_count": 26,
   "id": "9744e6b1-5c37-4630-a647-a917ee7c2b8b",
   "metadata": {
    "ExecuteTime": {
     "end_time": "2024-05-19T11:40:54.340590Z",
     "start_time": "2024-05-19T11:40:54.332589Z"
    }
   },
   "outputs": [],
   "source": [
    "# 模型二：KDTree\n",
    "class Node:\n",
    "    \"\"\"\n",
    "    K-d树中的节点类，包含节点值、左子节点和右子节点\n",
    "\n",
    "    参数:\n",
    "    ------\n",
    "    data : list/tuple\n",
    "        节点的k维数据\n",
    "    left : Node, 可选，默认=None\n",
    "        左子节点\n",
    "    right : Node, 可选，默认=None\n",
    "        右子节点\n",
    "    \"\"\"\n",
    "    \n",
    "    def __init__(self, data, left=None, right=None) -> None:\n",
    "        self.val = data\n",
    "        self.left = left\n",
    "        self.right = right\n",
    "\n",
    "\n",
    "class MyKdTreeClf:\n",
    "    \"\"\"\n",
    "    自定义K-d树分类器，用于k维空间的最近邻搜索\n",
    "\n",
    "    参数:\n",
    "    ------\n",
    "    k : int\n",
    "        数据的维度数\n",
    "\n",
    "    方法:\n",
    "    ------\n",
    "    create_Tree(dataset, depth)\n",
    "        从数据集中构建K-d树\n",
    "    search(tree, new_data)\n",
    "        在K-d树中搜索与new_data最近的点\n",
    "    distance(point_1, point_2)\n",
    "        计算两个k维点之间的欧氏距离\n",
    "    \"\"\"\n",
    "    \n",
    "    def __init__(self, k) -> None:\n",
    "        self.k = k\n",
    "\n",
    "    def create_Tree(self, dataset, depth):\n",
    "        \"\"\"\n",
    "        从给定的数据集构建K-d树\n",
    "\n",
    "        参数:\n",
    "        ------\n",
    "        dataset : list of lists/tuples\n",
    "            k维数据集，每个元素表示一个k维点\n",
    "        depth : int\n",
    "            当前构建的节点在树中的深度\n",
    "\n",
    "        返回:\n",
    "        ------\n",
    "        Node\n",
    "            构建的K-d树根节点\n",
    "        \"\"\"\n",
    "        if not dataset:\n",
    "            return None\n",
    "        mid_index = len(dataset) // 2  # 中位数\n",
    "        axis = depth % self.k  # 计算按照哪个坐标轴划分，由于索引从0开始，无需+1\n",
    "        sort_dataset = sorted(dataset, key=(lambda x: x[axis]))  # 按照坐标轴划分\n",
    "        mid_data = sort_dataset[mid_index]  # 中位数数据\n",
    "        cur_node = Node(mid_data)  # 创建当前节点\n",
    "        left_data = sort_dataset[:mid_index]  # 划分左右节点数据\n",
    "        right_data = sort_dataset[mid_index + 1:]\n",
    "        cur_node.left = self.create_Tree(left_data, depth + 1)\n",
    "        cur_node.right = self.create_Tree(right_data, depth + 1)\n",
    "        return cur_node\n",
    "\n",
    "    def search(self, tree, new_data):\n",
    "        \"\"\"\n",
    "        在K-d树中搜索与new_data最近的点\n",
    "\n",
    "        参数:\n",
    "        ------\n",
    "        tree : Node\n",
    "            K-d树的根节点\n",
    "        new_data : list/tuple\n",
    "            目标点的k维数据\n",
    "\n",
    "        返回:\n",
    "        ------\n",
    "        list/tuple\n",
    "            最近邻点的k维数据\n",
    "        \"\"\"\n",
    "        self.near_point = None  # 当前最邻近点\n",
    "        self.near_val = None  # 当前最邻近点与目标节点之间的距离\n",
    "\n",
    "        def dfs(node, depth):\n",
    "            # 递归找叶子结点\n",
    "            if not node:\n",
    "                return\n",
    "            axis = depth % self.k\n",
    "            if new_data[axis] < node.val[axis]:\n",
    "                dfs(node.left, depth + 1)\n",
    "            else:\n",
    "                dfs(node.right, depth + 1)\n",
    "\n",
    "            # 比较距离，判断是否更新最邻近点\n",
    "            dist = self.distance(new_data, node.val)\n",
    "            if not self.near_val or dist < self.near_val:\n",
    "                self.near_val = dist\n",
    "                self.near_point = node.val\n",
    "\n",
    "            # 向上回退的时候判断是否需要进入另一个子节点寻找\n",
    "            if abs(new_data[axis] - node.val[axis]) <= self.near_val:  \n",
    "                # 计算父节点在其分割特征上的值距离目标点在该特征上的值的距离，若该距离小于当前的最小距离，则进入另一个子节点，否则不进入\n",
    "                # 之前在左边找的现在去右边找，之前在右边找的现在去左边找\n",
    "                if new_data[axis] < node.val[axis]:  \n",
    "                    dfs(node.right, depth + 1)\n",
    "                else:\n",
    "                    dfs(node.left, depth + 1)\n",
    "\n",
    "        dfs(tree, 0)\n",
    "        return self.near_point\n",
    "\n",
    "    def distance(self, point_1, point_2):\n",
    "        \"\"\"\n",
    "        计算两个k维点之间的欧氏距离\n",
    "\n",
    "        参数:\n",
    "        ------\n",
    "        point_1 : list/tuple\n",
    "            第一个k维点\n",
    "        point_2 : list/tuple\n",
    "            第二个k维点\n",
    "\n",
    "        返回:\n",
    "        ------\n",
    "        float\n",
    "            欧氏距离\n",
    "        \"\"\"\n",
    "        res = 0\n",
    "        for i in range(self.k):\n",
    "            res += (point_1[i] - point_2[i]) ** 2\n",
    "        return res ** 0.5\n"
   ]
  },
  {
   "cell_type": "code",
   "execution_count": 54,
   "id": "21caceaa-f84a-43f0-b96d-fec0bfa1ad21",
   "metadata": {
    "ExecuteTime": {
     "end_time": "2024-05-19T13:39:49.405296Z",
     "start_time": "2024-05-19T13:39:18.028099Z"
    }
   },
   "outputs": [
    {
     "name": "stdout",
     "output_type": "stream",
     "text": [
      "训练用时：0.1s\n",
      "预测用时：31.3s\n",
      "准确率: 0.7416\n",
      "F1 score: 0.7177\n"
     ]
    }
   ],
   "source": [
    "# x = np.array([[2, 3], [5, 4], [9, 6], [4, 7], [8, 1], [7, 2]])\n",
    "train_x_list = train_x.tolist()\n",
    "# y = np.array([1, 1, 2, 1, 2, 2])\n",
    "train_y_list = train_y.tolist()\n",
    "# test = np.array([[1, 2], [2, 3], [3, 4], [4, 5], [5, 6], [6, 7], [7, 8], [8, 9], [9, 10], [10, 11]])\n",
    "test_x_list = test_x.tolist()\n",
    "pred = []\n",
    "# new_data = [1, 5]\n",
    "k = len(train_x_list[0])\n",
    "kd_tree = MyKdTreeClf(k)\n",
    "start = time.time()\n",
    "our_tree = kd_tree.create_Tree(train_x_list, 0)\n",
    "end = time.time()\n",
    "print(f'训练用时：{(end - start):.1f}s')\n",
    "start = time.time()\n",
    "for test in test_x_list:\n",
    "    predict = kd_tree.search(our_tree, test)\n",
    "    pred.append(train_y_list[train_x_list.index(predict)])\n",
    "end = time.time()\n",
    "print(f'预测用时：{(end - start):.1f}s')\n",
    "test_pred = np.array(pred).T\n",
    "test_accu = metrics.accuracy_score(test_y, test_pred)\n",
    "test_f1 = metrics.f1_score(test_y, test_pred, average='macro')\n",
    "print(f'准确率: {test_accu:.4f}\\nF1 score: {test_f1:.4f}')"
   ]
  },
  {
   "cell_type": "code",
   "execution_count": 55,
   "id": "5f4d01f18e200a7c",
   "metadata": {
    "ExecuteTime": {
     "end_time": "2024-05-19T13:40:30.359480Z",
     "start_time": "2024-05-19T13:40:30.140768Z"
    }
   },
   "outputs": [
    {
     "data": {
      "image/png": "[encoded data removed]",
      "text/plain": [
       "<Figure size 640x480 with 2 Axes>"
      ]
     },
     "metadata": {},
     "output_type": "display_data"
    }
   ],
   "source": [
    "plt.style.use('seaborn-white')\n",
    "disp = metrics.ConfusionMatrixDisplay.from_predictions(test_y, test_pred)\n",
    "# disp.figure_.suptitle(\"Confusion Matrix\")\n",
    "\n",
    "disp.figure_.savefig(\"confusion_matrix.png\")"
   ]
  },
  {
   "cell_type": "code",
   "execution_count": 98,
   "id": "ff9c4606-fcf3-4af6-ba7e-d7fa05c339f5",
   "metadata": {
    "ExecuteTime": {
     "end_time": "2024-05-19T12:22:46.072354Z",
     "start_time": "2024-05-19T12:22:45.648706Z"
    }
   },
   "outputs": [
    {
     "name": "stdout",
     "output_type": "stream",
     "text": [
      "训练用时：0.1s\n",
      "预测用时：0.7s\n",
      "准确率: 0.7599\n",
      "F1 score: 0.7336\n"
     ]
    }
   ],
   "source": [
    "from sklearn.neighbors import KNeighborsClassifier\n",
    "knn = KNeighborsClassifier(n_neighbors=5, algorithm='kd_tree')\n",
    "start = time.time()\n",
    "knn.fit(train_x, train_y)\n",
    "end = time.time()\n",
    "print(f'训练用时：{(end - start):.1f}s')\n",
    "start = time.time()\n",
    "pred = knn.predict(test_x)\n",
    "end = time.time()\n",
    "print(f'预测用时：{(end - start):.1f}s')\n",
    "test_accu = metrics.accuracy_score(test_y, pred)\n",
    "test_f1 = metrics.f1_score(test_y, pred, average='macro')\n",
    "print(f'准确率: {test_accu:.4f}\\nF1 score: {test_f1:.4f}')"
   ]
  },
  {
   "cell_type": "code",
   "execution_count": 28,
   "id": "99b246541e09f085",
   "metadata": {
    "ExecuteTime": {
     "end_time": "2024-05-20T12:36:22.030709Z",
     "start_time": "2024-05-20T12:36:22.021925Z"
    }
   },
   "outputs": [
    {
     "data": {
      "text/html": [
       "<div>\n",
       "<style scoped>\n",
       "    .dataframe tbody tr th:only-of-type {\n",
       "        vertical-align: middle;\n",
       "    }\n",
       "\n",
       "    .dataframe tbody tr th {\n",
       "        vertical-align: top;\n",
       "    }\n",
       "\n",
       "    .dataframe thead th {\n",
       "        text-align: right;\n",
       "    }\n",
       "</style>\n",
       "<table border=\"1\" class=\"dataframe\">\n",
       "  <thead>\n",
       "    <tr style=\"text-align: right;\">\n",
       "      <th></th>\n",
       "      <th>model</th>\n",
       "      <th>value</th>\n",
       "      <th>metrics</th>\n",
       "    </tr>\n",
       "  </thead>\n",
       "  <tbody>\n",
       "    <tr>\n",
       "      <th>0</th>\n",
       "      <td>SoftMax</td>\n",
       "      <td>0.8372</td>\n",
       "      <td>Accuracy</td>\n",
       "    </tr>\n",
       "    <tr>\n",
       "      <th>1</th>\n",
       "      <td>SoftMax</td>\n",
       "      <td>0.8177</td>\n",
       "      <td>F1 score</td>\n",
       "    </tr>\n",
       "    <tr>\n",
       "      <th>2</th>\n",
       "      <td>KdTree</td>\n",
       "      <td>0.7486</td>\n",
       "      <td>Accuracy</td>\n",
       "    </tr>\n",
       "    <tr>\n",
       "      <th>3</th>\n",
       "      <td>KdTree</td>\n",
       "      <td>0.7232</td>\n",
       "      <td>F1 score</td>\n",
       "    </tr>\n",
       "    <tr>\n",
       "      <th>4</th>\n",
       "      <td>DecTree</td>\n",
       "      <td>0.8410</td>\n",
       "      <td>Accuracy</td>\n",
       "    </tr>\n",
       "    <tr>\n",
       "      <th>5</th>\n",
       "      <td>DecTree</td>\n",
       "      <td>0.8268</td>\n",
       "      <td>F1 score</td>\n",
       "    </tr>\n",
       "  </tbody>\n",
       "</table>\n",
       "</div>"
      ],
      "text/plain": [
       "     model   value   metrics\n",
       "0  SoftMax  0.8372  Accuracy\n",
       "1  SoftMax  0.8177  F1 score\n",
       "2   KdTree  0.7486  Accuracy\n",
       "3   KdTree  0.7232  F1 score\n",
       "4  DecTree  0.8410  Accuracy\n",
       "5  DecTree  0.8268  F1 score"
      ]
     },
     "execution_count": 28,
     "metadata": {},
     "output_type": "execute_result"
    }
   ],
   "source": [
    "# value = [0.8372 * 100, 0.8177 * 100, 18.9, 0.7486 * 100, 0.7232 * 100, 46.6, 0.8410 * 100, 0.8268 * 100, 51.4]\n",
    "value = [0.8372, 0.8177, 0.7486, 0.7232, 0.8410, 0.8268]\n",
    "model = ['SoftMax', 'SoftMax', 'KdTree', 'KdTree', 'DecTree', 'DecTree']\n",
    "metrics = ['Accuracy', 'F1 score', 'Accuracy', 'F1 score', 'Accuracy', 'F1 score']\n",
    "time = [18.9, 46.6, 51.4]\n",
    "model_time = ['SoftMax', 'KdTree', 'DecTree']\n",
    "metrics_time = ['Time', 'Time', 'Time']\n",
    "fin = pd.DataFrame({'model': model, 'value': value, 'metrics': metrics})\n",
    "tin = pd.DataFrame({'model': model_time, 'value': time, 'metrics': metrics_time})\n",
    "fin"
   ]
  },
  {
   "cell_type": "code",
   "execution_count": 29,
   "id": "fa908f47ea8b16fc",
   "metadata": {
    "ExecuteTime": {
     "end_time": "2024-05-20T12:36:25.590496Z",
     "start_time": "2024-05-20T12:36:25.394320Z"
    }
   },
   "outputs": [
    {
     "data": {
      "text/plain": [
       "<matplotlib.legend.Legend at 0x2342b02de90>"
      ]
     },
     "execution_count": 29,
     "metadata": {},
     "output_type": "execute_result"
    },
    {
     "data": {
      "image/png": "[encoded data removed]",
      "text/plain": [
       "<Figure size 640x480 with 2 Axes>"
      ]
     },
     "metadata": {},
     "output_type": "display_data"
    }
   ],
   "source": [
    "plt.style.use('seaborn-v0_8-whitegrid')\n",
    "gs = gridspec.GridSpec(1, 2, width_ratios=[6, 3], hspace=0.2)\n",
    "ax1 = plt.subplot(gs[0, 0])\n",
    "ax2 = plt.subplot(gs[0, 1])\n",
    "fig1 = sns.barplot(x='metrics', y=\"value\", hue=\"model\", data=fin, ax=ax1)\n",
    "fig1.legend(loc='upper right')\n",
    "fig1.set_title('Accu & F1')\n",
    "fig2 = sns.barplot(x='metrics', y=\"value\", hue=\"model\", data=tin, ax=ax2)\n",
    "fig2.set_title('Time')\n",
    "fig2.legend(loc='upper right')"
   ]
  }
 ],
 "metadata": {
  "kernelspec": {
   "display_name": "Python 3 (ipykernel)",
   "language": "python",
   "name": "python3"
  },
  "language_info": {
   "codemirror_mode": {
    "name": "ipython",
    "version": 3
   },
   "file_extension": ".py",
   "mimetype": "text/x-python",
   "name": "python",
   "nbconvert_exporter": "python",
   "pygments_lexer": "ipython3",
   "version": "3.11.5"
  }
 },
 "nbformat": 4,
 "nbformat_minor": 5
}
